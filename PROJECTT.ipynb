{
 "cells": [
  {
   "cell_type": "markdown",
   "id": "ba8b0d49",
   "metadata": {},
   "source": [
    "Problematic to Solve:\n",
    "\n",
    "The Predictive Health Monitoring System addresses several challenges in the healthcare domain, aiming to overcome limitations in traditional healthcare approaches:\n",
    "\n",
    "Reactive Healthcare: Traditional healthcare systems often operate reactively, addressing health issues after they have manifested. Lack of early detection may lead to delayed interventions, impacting the effectiveness of treatment and potentially escalating healthcare costs.\n",
    "\n",
    "Limited Personalization: One-size-fits-all healthcare approaches may not consider individual variations in health conditions and lifestyles. Personalized healthcare is essential for effective prevention and management of health issues.\n",
    "\n",
    "Data Overload: With the proliferation of health data from various sources, individuals and healthcare professionals face challenges in extracting meaningful insights. There is a need for intelligent systems that can analyze diverse health data and provide actionable information.\n",
    "\n",
    "Preventable Health Conditions: Many health conditions are preventable or manageable if detected early. Lack of timely information and early warning systems can contribute to the prevalence of preventable health issues.\n",
    "\n",
    "Final Objective:\n",
    "\n",
    "The ultimate goal of the Predictive Health Monitoring System is to transform healthcare into a proactive, personalized, and data-driven model. The system aims to achieve the following objectives:\n",
    "\n",
    "Early Detection: Enable early detection of potential health issues by leveraging machine learning algorithms to analyze historical health data. Provide individuals and healthcare professionals with timely alerts and warnings based on predictive analytics.\n",
    "\n",
    "Personalized Healthcare: Implement a system that considers individual health profiles, lifestyle factors, and genetic predispositions. Offer personalized recommendations for preventive measures, lifestyle modifications, and intervention strategies.\n",
    "\n",
    "Improved Patient Outcomes: Contribute to improved patient outcomes by facilitating early interventions and tailored healthcare plans. Reduce the severity and progression of health conditions through timely and informed decision-making.\n",
    "\n",
    "Efficient Healthcare Resource Utilization: Optimize the allocation of healthcare resources by focusing on preventive measures and early interventions. Reduce the strain on healthcare facilities by minimizing the occurrence of advanced-stage health issues.\n",
    "\n",
    "User Empowerment: Empower individuals to actively manage their health by providing them with insights into their health trends, risk factors, and preventive measures.Foster a sense of ownership and responsibility for one's well-being.\n",
    "\n",
    "Integration with Healthcare Systems: Establish seamless integration with existing healthcare systems to ensure collaboration between individuals and healthcare professionals. Prioritize interoperability, data security, and compliance with healthcare regulations.\n",
    "\n",
    "Ethical and Privacy Considerations: Uphold ethical standards in the collection, handling, and use of sensitive health data. Prioritize user privacy, informed consent, and responsible data management practices.\n",
    "\n",
    "By achieving these objectives, the Predictive Health Monitoring System seeks to revolutionize healthcare practices, shifting from reactive models to proactive, personalized, and data-driven approaches that enhance overall health outcomes and well-being."
   ]
  },
  {
   "cell_type": "code",
   "execution_count": 1,
   "id": "44010078",
   "metadata": {},
   "outputs": [],
   "source": [
    "import pandas as pd \n",
    "import matplotlib.pyplot as plt\n",
    "import seaborn as sns"
   ]
  },
  {
   "cell_type": "code",
   "execution_count": 2,
   "id": "3a224651",
   "metadata": {},
   "outputs": [
    {
     "data": {
      "text/html": [
       "<div>\n",
       "<style scoped>\n",
       "    .dataframe tbody tr th:only-of-type {\n",
       "        vertical-align: middle;\n",
       "    }\n",
       "\n",
       "    .dataframe tbody tr th {\n",
       "        vertical-align: top;\n",
       "    }\n",
       "\n",
       "    .dataframe thead th {\n",
       "        text-align: right;\n",
       "    }\n",
       "</style>\n",
       "<table border=\"1\" class=\"dataframe\">\n",
       "  <thead>\n",
       "    <tr style=\"text-align: right;\">\n",
       "      <th></th>\n",
       "      <th>Name</th>\n",
       "      <th>Age</th>\n",
       "      <th>Gender</th>\n",
       "      <th>Blood Type</th>\n",
       "      <th>Medical Condition</th>\n",
       "      <th>Date of Admission</th>\n",
       "      <th>Doctor</th>\n",
       "      <th>Hospital</th>\n",
       "      <th>Insurance Provider</th>\n",
       "      <th>Billing Amount</th>\n",
       "      <th>Room Number</th>\n",
       "      <th>Admission Type</th>\n",
       "      <th>Discharge Date</th>\n",
       "      <th>Medication</th>\n",
       "      <th>Test Results</th>\n",
       "    </tr>\n",
       "  </thead>\n",
       "  <tbody>\n",
       "    <tr>\n",
       "      <th>0</th>\n",
       "      <td>Tiffany Ramirez</td>\n",
       "      <td>81</td>\n",
       "      <td>Female</td>\n",
       "      <td>O-</td>\n",
       "      <td>Diabetes</td>\n",
       "      <td>2022-11-17</td>\n",
       "      <td>Patrick Parker</td>\n",
       "      <td>Wallace-Hamilton</td>\n",
       "      <td>Medicare</td>\n",
       "      <td>37490.983364</td>\n",
       "      <td>146</td>\n",
       "      <td>Elective</td>\n",
       "      <td>2022-12-01</td>\n",
       "      <td>Aspirin</td>\n",
       "      <td>Inconclusive</td>\n",
       "    </tr>\n",
       "    <tr>\n",
       "      <th>1</th>\n",
       "      <td>Ruben Burns</td>\n",
       "      <td>35</td>\n",
       "      <td>Male</td>\n",
       "      <td>O+</td>\n",
       "      <td>Asthma</td>\n",
       "      <td>2023-06-01</td>\n",
       "      <td>Diane Jackson</td>\n",
       "      <td>Burke, Griffin and Cooper</td>\n",
       "      <td>UnitedHealthcare</td>\n",
       "      <td>47304.064845</td>\n",
       "      <td>404</td>\n",
       "      <td>Emergency</td>\n",
       "      <td>2023-06-15</td>\n",
       "      <td>Lipitor</td>\n",
       "      <td>Normal</td>\n",
       "    </tr>\n",
       "    <tr>\n",
       "      <th>2</th>\n",
       "      <td>Chad Byrd</td>\n",
       "      <td>61</td>\n",
       "      <td>Male</td>\n",
       "      <td>B-</td>\n",
       "      <td>Obesity</td>\n",
       "      <td>2019-01-09</td>\n",
       "      <td>Paul Baker</td>\n",
       "      <td>Walton LLC</td>\n",
       "      <td>Medicare</td>\n",
       "      <td>36874.896997</td>\n",
       "      <td>292</td>\n",
       "      <td>Emergency</td>\n",
       "      <td>2019-02-08</td>\n",
       "      <td>Lipitor</td>\n",
       "      <td>Normal</td>\n",
       "    </tr>\n",
       "    <tr>\n",
       "      <th>3</th>\n",
       "      <td>Antonio Frederick</td>\n",
       "      <td>49</td>\n",
       "      <td>Male</td>\n",
       "      <td>B-</td>\n",
       "      <td>Asthma</td>\n",
       "      <td>2020-05-02</td>\n",
       "      <td>Brian Chandler</td>\n",
       "      <td>Garcia Ltd</td>\n",
       "      <td>Medicare</td>\n",
       "      <td>23303.322092</td>\n",
       "      <td>480</td>\n",
       "      <td>Urgent</td>\n",
       "      <td>2020-05-03</td>\n",
       "      <td>Penicillin</td>\n",
       "      <td>Abnormal</td>\n",
       "    </tr>\n",
       "    <tr>\n",
       "      <th>4</th>\n",
       "      <td>Mrs. Brandy Flowers</td>\n",
       "      <td>51</td>\n",
       "      <td>Male</td>\n",
       "      <td>O-</td>\n",
       "      <td>Arthritis</td>\n",
       "      <td>2021-07-09</td>\n",
       "      <td>Dustin Griffin</td>\n",
       "      <td>Jones, Brown and Murray</td>\n",
       "      <td>UnitedHealthcare</td>\n",
       "      <td>18086.344184</td>\n",
       "      <td>477</td>\n",
       "      <td>Urgent</td>\n",
       "      <td>2021-08-02</td>\n",
       "      <td>Paracetamol</td>\n",
       "      <td>Normal</td>\n",
       "    </tr>\n",
       "  </tbody>\n",
       "</table>\n",
       "</div>"
      ],
      "text/plain": [
       "                  Name  Age  Gender Blood Type Medical Condition  \\\n",
       "0      Tiffany Ramirez   81  Female         O-          Diabetes   \n",
       "1          Ruben Burns   35    Male         O+            Asthma   \n",
       "2            Chad Byrd   61    Male         B-           Obesity   \n",
       "3    Antonio Frederick   49    Male         B-            Asthma   \n",
       "4  Mrs. Brandy Flowers   51    Male         O-         Arthritis   \n",
       "\n",
       "  Date of Admission          Doctor                   Hospital  \\\n",
       "0        2022-11-17  Patrick Parker           Wallace-Hamilton   \n",
       "1        2023-06-01   Diane Jackson  Burke, Griffin and Cooper   \n",
       "2        2019-01-09      Paul Baker                 Walton LLC   \n",
       "3        2020-05-02  Brian Chandler                 Garcia Ltd   \n",
       "4        2021-07-09  Dustin Griffin    Jones, Brown and Murray   \n",
       "\n",
       "  Insurance Provider  Billing Amount  Room Number Admission Type  \\\n",
       "0           Medicare    37490.983364          146       Elective   \n",
       "1   UnitedHealthcare    47304.064845          404      Emergency   \n",
       "2           Medicare    36874.896997          292      Emergency   \n",
       "3           Medicare    23303.322092          480         Urgent   \n",
       "4   UnitedHealthcare    18086.344184          477         Urgent   \n",
       "\n",
       "  Discharge Date   Medication  Test Results  \n",
       "0     2022-12-01      Aspirin  Inconclusive  \n",
       "1     2023-06-15      Lipitor        Normal  \n",
       "2     2019-02-08      Lipitor        Normal  \n",
       "3     2020-05-03   Penicillin      Abnormal  \n",
       "4     2021-08-02  Paracetamol        Normal  "
      ]
     },
     "execution_count": 2,
     "metadata": {},
     "output_type": "execute_result"
    }
   ],
   "source": [
    "df = pd.read_csv('Predictive Health Monitoring Dataset.csv')\n",
    "df.head()"
   ]
  },
  {
   "cell_type": "code",
   "execution_count": 3,
   "id": "1f0a1599",
   "metadata": {},
   "outputs": [
    {
     "data": {
      "text/plain": [
       "Name                  0\n",
       "Age                   0\n",
       "Gender                0\n",
       "Blood Type            0\n",
       "Medical Condition     0\n",
       "Date of Admission     0\n",
       "Doctor                0\n",
       "Hospital              0\n",
       "Insurance Provider    0\n",
       "Billing Amount        0\n",
       "Room Number           0\n",
       "Admission Type        0\n",
       "Discharge Date        0\n",
       "Medication            0\n",
       "Test Results          0\n",
       "dtype: int64"
      ]
     },
     "execution_count": 3,
     "metadata": {},
     "output_type": "execute_result"
    }
   ],
   "source": [
    "df.isnull().sum()"
   ]
  },
  {
   "cell_type": "code",
   "execution_count": 4,
   "id": "bea48310",
   "metadata": {},
   "outputs": [
    {
     "name": "stdout",
     "output_type": "stream",
     "text": [
      "      Name  Age  Gender  Test Results Admission Type Blood Type\n",
      "0  Tiffany   81  Female  Inconclusive       Elective         O-\n",
      "1    Ruben   35  Female        Normal      Emergency         O+\n",
      "2     Chad   61    Male        Normal      Emergency         B-\n"
     ]
    }
   ],
   "source": [
    "import pandas as pd\n",
    "\n",
    "# Assuming 'df' is your DataFrame\n",
    "df = pd.DataFrame({\n",
    "   'Name': ['Tiffany', 'Ruben', 'Chad'],\n",
    "    'Age': [81, 35, 61],\n",
    "    'Gender': ['Female', 'Female', 'Male'],\n",
    "    'Test Results': ['Inconclusive', 'Normal', 'Normal'],\n",
    "    'Admission Type': ['Elective', 'Emergency', 'Emergency'],\n",
    "    'Blood Type': ['O-', 'O+', 'B-']\n",
    "})\n",
    "\n",
    "# Drop rows with missing values\n",
    "df_cleaned = df.dropna()\n",
    "\n",
    "# Print the cleaned DataFrame\n",
    "print(df_cleaned)"
   ]
  },
  {
   "cell_type": "code",
   "execution_count": 14,
   "id": "c12fccba",
   "metadata": {},
   "outputs": [
    {
     "name": "stdout",
     "output_type": "stream",
     "text": [
      "      Name  Age  Gender  Test Results  Admission Type  Blood Type\n",
      "0  Tiffany   81       0             0               0           2\n",
      "1    Ruben   35       0             1               1           1\n",
      "2     Chad   61       1             1               1           0\n"
     ]
    }
   ],
   "source": [
    "# Drop columns with missing values\n",
    "df_cleaned_columns = df.dropna(axis=1)\n",
    "\n",
    "# Print the DataFrame with columns dropped\n",
    "print(df_cleaned_columns)"
   ]
  },
  {
   "cell_type": "code",
   "execution_count": 6,
   "id": "d9ea2142",
   "metadata": {},
   "outputs": [
    {
     "name": "stdout",
     "output_type": "stream",
     "text": [
      "      Name  Age  Gender  Test Results Admission Type Blood Type\n",
      "0  Tiffany   81  Female  Inconclusive       Elective         O-\n",
      "1    Ruben   35  Female        Normal      Emergency         O+\n",
      "2     Chad   61    Male        Normal      Emergency         B-\n"
     ]
    }
   ],
   "source": [
    "import pandas as pd\n",
    "\n",
    "# Assuming 'df' is your DataFrame\n",
    "df = pd.DataFrame({\n",
    "'Name': ['Tiffany', 'Ruben', 'Chad'],\n",
    "    'Age': [81, 35, 61],\n",
    "    'Gender': ['Female', 'Female', 'Male'],\n",
    "    'Test Results': ['Inconclusive', 'Normal', 'Normal'],\n",
    "    'Admission Type': ['Elective', 'Emergency', 'Emergency'],\n",
    "    'Blood Type': ['O-', 'O+', 'B-']\n",
    "})\n",
    "\n",
    "# Replace missing numerical values in the 'Age' column with the mean\n",
    "mean_age = df['Age'].mean()\n",
    "df['Age'] = df['Age'].fillna(mean_age)\n",
    "\n",
    "# Print the DataFrame with missing values replaced\n",
    "print(df)"
   ]
  },
  {
   "cell_type": "code",
   "execution_count": 13,
   "id": "12bae60c",
   "metadata": {},
   "outputs": [
    {
     "name": "stdout",
     "output_type": "stream",
     "text": [
      "      Name  Age  Gender  Test Results  Admission Type  Blood Type\n",
      "0  Tiffany   81       0             0               0           2\n",
      "1    Ruben   35       0             1               1           1\n",
      "2     Chad   61       1             1               1           0\n",
      "      Name  Age  Gender_0  Gender_1  Blood Type_0  Blood Type_1  Blood Type_2  \\\n",
      "0  Tiffany   81      True     False         False         False          True   \n",
      "1    Ruben   35      True     False         False          True         False   \n",
      "2     Chad   61     False      True          True         False         False   \n",
      "\n",
      "   Admission Type_0  Admission Type_1  Test Results_0  Test Results_1  \n",
      "0              True             False            True           False  \n",
      "1             False              True           False            True  \n",
      "2             False              True           False            True  \n"
     ]
    }
   ],
   "source": [
    "from sklearn.preprocessing import LabelEncoder\n",
    "\n",
    "# Assuming 'df' is your DataFrame\n",
    "df = pd.DataFrame({\n",
    "    'Name': ['Tiffany', 'Ruben', 'Chad'],\n",
    "    'Age': [81, 35, 61],\n",
    "    'Gender': ['Female', 'Female', 'Male'],\n",
    "    'Test Results': ['Inconclusive', 'Normal', 'Normal'],\n",
    "    'Admission Type': ['Elective', 'Emergency', 'Emergency'],\n",
    "    'Blood Type': ['O-', 'O+', 'B-']\n",
    "})\n",
    "\n",
    "# Initialize LabelEncoder\n",
    "label_encoder = LabelEncoder()\n",
    "\n",
    "# Apply LabelEncoder to each categorical column\n",
    "df['Gender'] = label_encoder.fit_transform(df['Gender'])\n",
    "df['Blood Type'] = label_encoder.fit_transform(df['Blood Type'])\n",
    "df['Admission Type'] = label_encoder.fit_transform(df['Admission Type'])\n",
    "df['Test Results'] = label_encoder.fit_transform(df['Test Results'])\n",
    "\n",
    "# Print the DataFrame with categorical variables encoded\n",
    "print(df)\n",
    "\n",
    "# Use pandas get_dummies for one-hot encoding\n",
    "df_encoded = pd.get_dummies(df, columns=['Gender', 'Blood Type', 'Admission Type', 'Test Results'])\n",
    "\n",
    "# Print the DataFrame with one-hot encoding\n",
    "print(df_encoded)"
   ]
  },
  {
   "cell_type": "code",
   "execution_count": 15,
   "id": "6be7cb06",
   "metadata": {},
   "outputs": [
    {
     "name": "stdout",
     "output_type": "stream",
     "text": [
      "      Name  Age  Gender_Female  Gender_Male  Blood Type_B-  Blood Type_O+  \\\n",
      "0  Tiffany   81           True        False          False          False   \n",
      "1    Ruben   35           True        False          False           True   \n",
      "2     Chad   61          False         True           True          False   \n",
      "\n",
      "   Blood Type_O-  Admission Type_Elective  Admission Type_Emergency  \\\n",
      "0           True                     True                     False   \n",
      "1          False                    False                      True   \n",
      "2          False                    False                      True   \n",
      "\n",
      "   Test Results_Inconclusive  Test Results_Normal  \n",
      "0                       True                False  \n",
      "1                      False                 True  \n",
      "2                      False                 True  \n"
     ]
    }
   ],
   "source": [
    "# Assuming 'df' is your DataFrame\n",
    "df = pd.DataFrame({\n",
    "    'Name': ['Tiffany', 'Ruben', 'Chad'],\n",
    "    'Age': [81, 35, 61],\n",
    "    'Gender': ['Female', 'Female', 'Male'],\n",
    "    'Test Results': ['Inconclusive', 'Normal', 'Normal'],\n",
    "    'Admission Type': ['Elective', 'Emergency', 'Emergency'],\n",
    "    'Blood Type': ['O-', 'O+', 'B-']})\n",
    "\n",
    "# Use pandas get_dummies for one-hot encoding\n",
    "df_encoded = pd.get_dummies(df, columns=['Gender', 'Blood Type', 'Admission Type', 'Test Results'])\n",
    "\n",
    "# Print the DataFrame with one-hot encoding\n",
    "print(df_encoded)"
   ]
  },
  {
   "cell_type": "code",
   "execution_count": 16,
   "id": "c5ae2c4d",
   "metadata": {},
   "outputs": [
    {
     "data": {
      "image/png": "[encoded data removed]",
      "text/plain": [
       "<Figure size 640x480 with 1 Axes>"
      ]
     },
     "metadata": {},
     "output_type": "display_data"
    }
   ],
   "source": [
    "# Countplot for gender\n",
    "sns.countplot(x='Gender', data=df)\n",
    "plt.title('Gender')\n",
    "plt.show()"
   ]
  },
  {
   "cell_type": "code",
   "execution_count": 18,
   "id": "45a22d95",
   "metadata": {},
   "outputs": [
    {
     "data": {
      "image/png": "[encoded data removed]",
      "text/plain": [
       "<Figure size 640x480 with 1 Axes>"
      ]
     },
     "metadata": {},
     "output_type": "display_data"
    }
   ],
   "source": [
    "# Histogram for Blood Type\n",
    "sns.histplot(df['Blood Type'].dropna(), bins=20)\n",
    "plt.title('Blood Type distribution')\n",
    "plt.xlabel('Blood Type')\n",
    "plt.show()"
   ]
  },
  {
   "cell_type": "code",
   "execution_count": 19,
   "id": "0788f321",
   "metadata": {},
   "outputs": [
    {
     "name": "stdout",
     "output_type": "stream",
     "text": [
      "      Name       Age  Gender  Test Results Admission Type Blood Type\n",
      "0  Tiffany  1.168187  Female  Inconclusive       Elective         O-\n",
      "1    Ruben -1.274386  Female        Normal      Emergency         O+\n",
      "2     Chad  0.106199    Male        Normal      Emergency         B-\n"
     ]
    }
   ],
   "source": [
    "from sklearn.preprocessing import StandardScaler\n",
    "import pandas as pd\n",
    "\n",
    "# Assuming 'df' is your DataFrame with the features to be scaled\n",
    "df = pd.DataFrame({\n",
    "    'Name': ['Tiffany', 'Ruben', 'Chad'],\n",
    "    'Age': [81, 35, 61],\n",
    "    'Gender': ['Female', 'Female', 'Male'],\n",
    "    'Test Results': ['Inconclusive', 'Normal', 'Normal'],\n",
    "    'Admission Type': ['Elective', 'Emergency', 'Emergency'],\n",
    "    'Blood Type': ['O-', 'O+', 'B-']\n",
    "    \n",
    "})\n",
    "\n",
    "# Extract the features you want to scale\n",
    "features_to_scale = ['Age'] \n",
    "\n",
    "# Initialize StandardScaler\n",
    "scaler = StandardScaler()\n",
    "\n",
    "# Apply StandardScaler to the selected features\n",
    "df[features_to_scale] = scaler.fit_transform(df[features_to_scale])\n",
    "\n",
    "# Print the DataFrame with scaled features\n",
    "print(df)"
   ]
  },
  {
   "cell_type": "code",
   "execution_count": 20,
   "id": "cc13fac8",
   "metadata": {},
   "outputs": [
    {
     "data": {
      "image/png": "[encoded data removed]",
      "text/plain": [
       "<Figure size 640x480 with 1 Axes>"
      ]
     },
     "metadata": {},
     "output_type": "display_data"
    }
   ],
   "source": [
    "# Histogram for Age distribution\n",
    "sns.histplot(df['Age'].dropna(), bins=30)\n",
    "plt.title('Age distribution')\n",
    "plt.xlabel('Age')\n",
    "plt.show()"
   ]
  },
  {
   "cell_type": "code",
   "execution_count": 21,
   "id": "49cc8053",
   "metadata": {},
   "outputs": [
    {
     "name": "stdout",
     "output_type": "stream",
     "text": [
      "                Age\n",
      "count  3.000000e+00\n",
      "mean  -3.238150e-17\n",
      "std    1.224745e+00\n",
      "min   -1.274386e+00\n",
      "25%   -5.840937e-01\n",
      "50%    1.061988e-01\n",
      "75%    6.371931e-01\n",
      "max    1.168187e+00\n",
      "Name              0\n",
      "Age               0\n",
      "Gender            0\n",
      "Test Results      0\n",
      "Admission Type    0\n",
      "Blood Type        0\n",
      "dtype: int64\n"
     ]
    }
   ],
   "source": [
    "# Check summary statistics of the numerical columns\n",
    "print(df.describe())\n",
    "\n",
    "# Check for missing values\n",
    "print(df.isnull().sum())"
   ]
  },
  {
   "cell_type": "code",
   "execution_count": 22,
   "id": "02bff559",
   "metadata": {},
   "outputs": [
    {
     "name": "stdout",
     "output_type": "stream",
     "text": [
      "Accuracy=0.00\n"
     ]
    }
   ],
   "source": [
    "#import relevant libraries\n",
    "from sklearn.model_selection import train_test_split\n",
    "from sklearn.linear_model import LogisticRegression\n",
    "from sklearn import metrics\n",
    "\n",
    "#features extraction\n",
    "x = df[['Age']]\n",
    "y = df['Blood Type']\n",
    "\n",
    "x_train,x_test,y_train,y_test = train_test_split(x,y,test_size=0.25,random_state=0)  #splitting data with test size of 25%\n",
    "\n",
    "logreg = LogisticRegression()   #build our logistic model\n",
    "logreg.fit(x_train, y_train)  #fitting training data\n",
    "y_pred  = logreg.predict(x_test)    #testing model’s performance\n",
    "print(\"Accuracy={:.2f}\".format(logreg.score(x_test, y_test)))"
   ]
  },
  {
   "cell_type": "code",
   "execution_count": 27,
   "id": "c046638f",
   "metadata": {},
   "outputs": [
    {
     "data": {
      "image/png": "[encoded data removed]",
      "text/plain": [
       "<Figure size 640x480 with 1 Axes>"
      ]
     },
     "metadata": {},
     "output_type": "display_data"
    }
   ],
   "source": [
    "# Example: Bar chart\n",
    "plt.bar(df['Age'], df['Age'])\n",
    "plt.xlabel('Sex')\n",
    "plt.ylabel('Sex')\n",
    "plt.title('Bar Chart for Age and sex')\n",
    "plt.show()"
   ]
  },
  {
   "cell_type": "code",
   "execution_count": 30,
   "id": "1337e8b5",
   "metadata": {},
   "outputs": [],
   "source": [
    "import pandas as pd\n",
    "from sklearn.model_selection import train_test_split\n",
    "\n",
    "# Let's assume you want to predict 'Blood Type' based on 'Age' and 'Gender'\n",
    "X = df[['Age', 'Gender', 'Test Results', 'Admission Type']]\n",
    "y = df['Blood Type']\n",
    "\n",
    "# Split the data into training and testing sets\n",
    "X_train, X_test, y_train, y_test = train_test_split(X, y, test_size=0.25, random_state=42)"
   ]
  },
  {
   "cell_type": "code",
   "execution_count": 36,
   "id": "f7b0415b",
   "metadata": {},
   "outputs": [],
   "source": [
    "import joblib"
   ]
  },
  {
   "cell_type": "code",
   "execution_count": 39,
   "id": "26f17d8f",
   "metadata": {},
   "outputs": [
    {
     "name": "stdout",
     "output_type": "stream",
     "text": [
      "Trained model has been saved to Predictive Health Monitoring Dataset.pkl\n"
     ]
    }
   ],
   "source": [
    "import joblib\n",
    "\n",
    "# Replace 'YourModelName.pkl' with the desired filename\n",
    "model_filename = 'Predictive Health Monitoring Dataset.pkl'\n",
    "\n",
    "# Save the trained model to a file\n",
    "joblib.dump(logreg, model_filename)\n",
    "\n",
    "# Print a message indicating that the model has been saved\n",
    "print(f\"Trained model has been saved to {model_filename}\")\n"
   ]
  },
  {
   "cell_type": "code",
   "execution_count": 44,
   "id": "dee8c808",
   "metadata": {},
   "outputs": [
    {
     "name": "stdout",
     "output_type": "stream",
     "text": [
      "[[ 1.16818734  0.          0.          1.        ]\n",
      " [-1.27438619  0.          1.          0.        ]\n",
      " [ 0.10619885  1.          0.          0.        ]]\n"
     ]
    }
   ],
   "source": [
    "import pandas as pd\n",
    "from sklearn.preprocessing import StandardScaler, OneHotEncoder\n",
    "from sklearn.compose import ColumnTransformer\n",
    "from sklearn.pipeline import Pipeline\n",
    "\n",
    "# Sample data\n",
    "data = pd.DataFrame({\n",
    "    'Age': [81, 35, 61],\n",
    "    'Blood Type': ['O-', 'O+', 'B-']\n",
    "})\n",
    "\n",
    "# Define the transformer\n",
    "preprocessor = ColumnTransformer(\n",
    "    transformers=[\n",
    "        ('num', StandardScaler(), ['Age']),\n",
    "        ('cat', OneHotEncoder(), ['Blood Type'])\n",
    "    ])\n",
    "\n",
    "# Apply the transformations\n",
    "X = preprocessor.fit_transform(data)\n",
    "\n",
    "# Display the transformed data\n",
    "print(X)"
   ]
  },
  {
   "cell_type": "code",
   "execution_count": null,
   "id": "38b3a4d8",
   "metadata": {},
   "outputs": [],
   "source": []
  }
 ],
 "metadata": {
  "kernelspec": {
   "display_name": "Python 3 (ipykernel)",
   "language": "python",
   "name": "python3"
  },
  "language_info": {
   "codemirror_mode": {
    "name": "ipython",
    "version": 3
   },
   "file_extension": ".py",
   "mimetype": "text/x-python",
   "name": "python",
   "nbconvert_exporter": "python",
   "pygments_lexer": "ipython3",
   "version": "3.11.5"
  }
 },
 "nbformat": 4,
 "nbformat_minor": 5
}
