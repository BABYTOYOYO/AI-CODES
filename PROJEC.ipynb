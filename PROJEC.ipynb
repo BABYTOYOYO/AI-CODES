{
 "cells": [
  {
   "cell_type": "markdown",
   "id": "6da6edb4",
   "metadata": {},
   "source": [
    "Problematic to Solve:\n",
    "\n",
    "The Predictive Health Monitoring System addresses several challenges in the healthcare domain, aiming to overcome limitations in traditional healthcare approaches:\n",
    "\n",
    "Reactive Healthcare: Traditional healthcare systems often operate reactively, addressing health issues after they have manifested. Lack of early detection may lead to delayed interventions, impacting the effectiveness of treatment and potentially escalating healthcare costs.\n",
    "\n",
    "Limited Personalization: One-size-fits-all healthcare approaches may not consider individual variations in health conditions and lifestyles. Personalized healthcare is essential for effective prevention and management of health issues.\n",
    "\n",
    "Data Overload: With the proliferation of health data from various sources, individuals and healthcare professionals face challenges in extracting meaningful insights. There is a need for intelligent systems that can analyze diverse health data and provide actionable information.\n",
    "\n",
    "Preventable Health Conditions: Many health conditions are preventable or manageable if detected early. Lack of timely information and early warning systems can contribute to the prevalence of preventable health issues.\n",
    "\n",
    "Final Objective:\n",
    "\n",
    "The ultimate goal of the Predictive Health Monitoring System is to transform healthcare into a proactive, personalized, and data-driven model. The system aims to achieve the following objectives:\n",
    "\n",
    "Early Detection: Enable early detection of potential health issues by leveraging machine learning algorithms to analyze historical health data. Provide individuals and healthcare professionals with timely alerts and warnings based on predictive analytics.\n",
    "\n",
    "Personalized Healthcare: Implement a system that considers individual health profiles, lifestyle factors, and genetic predispositions. Offer personalized recommendations for preventive measures, lifestyle modifications, and intervention strategies.\n",
    "\n",
    "Improved Patient Outcomes: Contribute to improved patient outcomes by facilitating early interventions and tailored healthcare plans. Reduce the severity and progression of health conditions through timely and informed decision-making.\n",
    "\n",
    "Efficient Healthcare Resource Utilization: Optimize the allocation of healthcare resources by focusing on preventive measures and early interventions. Reduce the strain on healthcare facilities by minimizing the occurrence of advanced-stage health issues.\n",
    "\n",
    "User Empowerment: Empower individuals to actively manage their health by providing them with insights into their health trends, risk factors, and preventive measures.Foster a sense of ownership and responsibility for one's well-being.\n",
    "\n",
    "Integration with Healthcare Systems: Establish seamless integration with existing healthcare systems to ensure collaboration between individuals and healthcare professionals. Prioritize interoperability, data security, and compliance with healthcare regulations.\n",
    "\n",
    "Ethical and Privacy Considerations: Uphold ethical standards in the collection, handling, and use of sensitive health data. Prioritize user privacy, informed consent, and responsible data management practices.\n",
    "\n",
    "By achieving these objectives, the Predictive Health Monitoring System seeks to revolutionize healthcare practices, shifting from reactive models to proactive, personalized, and data-driven approaches that enhance overall health outcomes and well-being"
   ]
  },
  {
   "cell_type": "code",
   "execution_count": 1,
   "id": "cb3e0cfa",
   "metadata": {},
   "outputs": [],
   "source": [
    "import pandas as pd \n",
    "import matplotlib.pyplot as plt\n",
    "import seaborn as sns"
   ]
  },
  {
   "cell_type": "code",
   "execution_count": 2,
   "id": "652a3808",
   "metadata": {},
   "outputs": [
    {
     "data": {
      "text/html": [
       "<div>\n",
       "<style scoped>\n",
       "    .dataframe tbody tr th:only-of-type {\n",
       "        vertical-align: middle;\n",
       "    }\n",
       "\n",
       "    .dataframe tbody tr th {\n",
       "        vertical-align: top;\n",
       "    }\n",
       "\n",
       "    .dataframe thead th {\n",
       "        text-align: right;\n",
       "    }\n",
       "</style>\n",
       "<table border=\"1\" class=\"dataframe\">\n",
       "  <thead>\n",
       "    <tr style=\"text-align: right;\">\n",
       "      <th></th>\n",
       "      <th>Name</th>\n",
       "      <th>Age</th>\n",
       "      <th>Gender</th>\n",
       "      <th>Blood Type</th>\n",
       "      <th>Medical Condition</th>\n",
       "      <th>Date of Admission</th>\n",
       "      <th>Doctor</th>\n",
       "      <th>Hospital</th>\n",
       "      <th>Insurance Provider</th>\n",
       "      <th>Billing Amount</th>\n",
       "      <th>Room Number</th>\n",
       "      <th>Admission Type</th>\n",
       "      <th>Discharge Date</th>\n",
       "      <th>Medication</th>\n",
       "      <th>Test Results</th>\n",
       "    </tr>\n",
       "  </thead>\n",
       "  <tbody>\n",
       "    <tr>\n",
       "      <th>0</th>\n",
       "      <td>Tiffany Ramirez</td>\n",
       "      <td>81</td>\n",
       "      <td>Female</td>\n",
       "      <td>O-</td>\n",
       "      <td>Diabetes</td>\n",
       "      <td>2022-11-17</td>\n",
       "      <td>Patrick Parker</td>\n",
       "      <td>Wallace-Hamilton</td>\n",
       "      <td>Medicare</td>\n",
       "      <td>37490.983364</td>\n",
       "      <td>146</td>\n",
       "      <td>Elective</td>\n",
       "      <td>2022-12-01</td>\n",
       "      <td>Aspirin</td>\n",
       "      <td>Inconclusive</td>\n",
       "    </tr>\n",
       "    <tr>\n",
       "      <th>1</th>\n",
       "      <td>Ruben Burns</td>\n",
       "      <td>35</td>\n",
       "      <td>Male</td>\n",
       "      <td>O+</td>\n",
       "      <td>Asthma</td>\n",
       "      <td>2023-06-01</td>\n",
       "      <td>Diane Jackson</td>\n",
       "      <td>Burke, Griffin and Cooper</td>\n",
       "      <td>UnitedHealthcare</td>\n",
       "      <td>47304.064845</td>\n",
       "      <td>404</td>\n",
       "      <td>Emergency</td>\n",
       "      <td>2023-06-15</td>\n",
       "      <td>Lipitor</td>\n",
       "      <td>Normal</td>\n",
       "    </tr>\n",
       "    <tr>\n",
       "      <th>2</th>\n",
       "      <td>Chad Byrd</td>\n",
       "      <td>61</td>\n",
       "      <td>Male</td>\n",
       "      <td>B-</td>\n",
       "      <td>Obesity</td>\n",
       "      <td>2019-01-09</td>\n",
       "      <td>Paul Baker</td>\n",
       "      <td>Walton LLC</td>\n",
       "      <td>Medicare</td>\n",
       "      <td>36874.896997</td>\n",
       "      <td>292</td>\n",
       "      <td>Emergency</td>\n",
       "      <td>2019-02-08</td>\n",
       "      <td>Lipitor</td>\n",
       "      <td>Normal</td>\n",
       "    </tr>\n",
       "    <tr>\n",
       "      <th>3</th>\n",
       "      <td>Antonio Frederick</td>\n",
       "      <td>49</td>\n",
       "      <td>Male</td>\n",
       "      <td>B-</td>\n",
       "      <td>Asthma</td>\n",
       "      <td>2020-05-02</td>\n",
       "      <td>Brian Chandler</td>\n",
       "      <td>Garcia Ltd</td>\n",
       "      <td>Medicare</td>\n",
       "      <td>23303.322092</td>\n",
       "      <td>480</td>\n",
       "      <td>Urgent</td>\n",
       "      <td>2020-05-03</td>\n",
       "      <td>Penicillin</td>\n",
       "      <td>Abnormal</td>\n",
       "    </tr>\n",
       "    <tr>\n",
       "      <th>4</th>\n",
       "      <td>Mrs. Brandy Flowers</td>\n",
       "      <td>51</td>\n",
       "      <td>Male</td>\n",
       "      <td>O-</td>\n",
       "      <td>Arthritis</td>\n",
       "      <td>2021-07-09</td>\n",
       "      <td>Dustin Griffin</td>\n",
       "      <td>Jones, Brown and Murray</td>\n",
       "      <td>UnitedHealthcare</td>\n",
       "      <td>18086.344184</td>\n",
       "      <td>477</td>\n",
       "      <td>Urgent</td>\n",
       "      <td>2021-08-02</td>\n",
       "      <td>Paracetamol</td>\n",
       "      <td>Normal</td>\n",
       "    </tr>\n",
       "  </tbody>\n",
       "</table>\n",
       "</div>"
      ],
      "text/plain": [
       "                  Name  Age  Gender Blood Type Medical Condition  \\\n",
       "0      Tiffany Ramirez   81  Female         O-          Diabetes   \n",
       "1          Ruben Burns   35    Male         O+            Asthma   \n",
       "2            Chad Byrd   61    Male         B-           Obesity   \n",
       "3    Antonio Frederick   49    Male         B-            Asthma   \n",
       "4  Mrs. Brandy Flowers   51    Male         O-         Arthritis   \n",
       "\n",
       "  Date of Admission          Doctor                   Hospital  \\\n",
       "0        2022-11-17  Patrick Parker           Wallace-Hamilton   \n",
       "1        2023-06-01   Diane Jackson  Burke, Griffin and Cooper   \n",
       "2        2019-01-09      Paul Baker                 Walton LLC   \n",
       "3        2020-05-02  Brian Chandler                 Garcia Ltd   \n",
       "4        2021-07-09  Dustin Griffin    Jones, Brown and Murray   \n",
       "\n",
       "  Insurance Provider  Billing Amount  Room Number Admission Type  \\\n",
       "0           Medicare    37490.983364          146       Elective   \n",
       "1   UnitedHealthcare    47304.064845          404      Emergency   \n",
       "2           Medicare    36874.896997          292      Emergency   \n",
       "3           Medicare    23303.322092          480         Urgent   \n",
       "4   UnitedHealthcare    18086.344184          477         Urgent   \n",
       "\n",
       "  Discharge Date   Medication  Test Results  \n",
       "0     2022-12-01      Aspirin  Inconclusive  \n",
       "1     2023-06-15      Lipitor        Normal  \n",
       "2     2019-02-08      Lipitor        Normal  \n",
       "3     2020-05-03   Penicillin      Abnormal  \n",
       "4     2021-08-02  Paracetamol        Normal  "
      ]
     },
     "execution_count": 2,
     "metadata": {},
     "output_type": "execute_result"
    }
   ],
   "source": [
    "df = pd.read_csv('Predictive Health Monitoring Dataset.csv')\n",
    "df.head()"
   ]
  },
  {
   "cell_type": "code",
   "execution_count": 4,
   "id": "b4b5bb5e",
   "metadata": {},
   "outputs": [
    {
     "data": {
      "text/plain": [
       "Name                  0\n",
       "Age                   0\n",
       "Gender                0\n",
       "Blood Type            0\n",
       "Medical Condition     0\n",
       "Date of Admission     0\n",
       "Doctor                0\n",
       "Hospital              0\n",
       "Insurance Provider    0\n",
       "Billing Amount        0\n",
       "Room Number           0\n",
       "Admission Type        0\n",
       "Discharge Date        0\n",
       "Medication            0\n",
       "Test Results          0\n",
       "dtype: int64"
      ]
     },
     "execution_count": 4,
     "metadata": {},
     "output_type": "execute_result"
    }
   ],
   "source": [
    "df.isnull().sum()"
   ]
  },
  {
   "cell_type": "code",
   "execution_count": 5,
   "id": "ad510aa6",
   "metadata": {},
   "outputs": [
    {
     "name": "stdout",
     "output_type": "stream",
     "text": [
      "   Gender   Age Blood Type Medication Medical Condition\n",
      "0    Male  25.0          A        Yes           Healthy\n",
      "1  Female  30.0          B         No           Healthy\n"
     ]
    }
   ],
   "source": [
    "import pandas as pd\n",
    "\n",
    "# Assuming 'df' is your DataFrame\n",
    "df = pd.DataFrame({\n",
    "    'Gender': ['Male', 'Female', 'Male', None, 'Female'],\n",
    "    'Age': [25, 30, None, 28, 22],\n",
    "    'Blood Type': ['A', 'B', 'O', 'AB', None],\n",
    "    'Medication': ['Yes', 'No', 'No', None, 'Yes'],\n",
    "    'Medical Condition': ['Healthy', 'Healthy', 'Sick', 'Sick', 'Healthy']\n",
    "})\n",
    "\n",
    "# Drop rows with missing values\n",
    "df_cleaned = df.dropna()\n",
    "\n",
    "# Print the cleaned DataFrame\n",
    "print(df_cleaned)"
   ]
  },
  {
   "cell_type": "code",
   "execution_count": 6,
   "id": "dd3fc81a",
   "metadata": {},
   "outputs": [
    {
     "name": "stdout",
     "output_type": "stream",
     "text": [
      "  Medical Condition\n",
      "0           Healthy\n",
      "1           Healthy\n",
      "2              Sick\n",
      "3              Sick\n",
      "4           Healthy\n"
     ]
    }
   ],
   "source": [
    "# Drop columns with missing values\n",
    "df_cleaned_columns = df.dropna(axis=1)\n",
    "\n",
    "# Print the DataFrame with columns dropped\n",
    "print(df_cleaned_columns)"
   ]
  },
  {
   "cell_type": "code",
   "execution_count": 7,
   "id": "1e39aaff",
   "metadata": {},
   "outputs": [
    {
     "name": "stdout",
     "output_type": "stream",
     "text": [
      "   Gender    Age Blood Type Medication Medical Condition\n",
      "0    Male  25.00          A        Yes           Healthy\n",
      "1  Female  30.00          B         No           Healthy\n",
      "2    Male  26.25          O         No              Sick\n",
      "3    None  28.00         AB       None              Sick\n",
      "4  Female  22.00       None        Yes           Healthy\n"
     ]
    }
   ],
   "source": [
    "import pandas as pd\n",
    "\n",
    "# Assuming 'df' is your DataFrame\n",
    "df = pd.DataFrame({\n",
    "    'Gender': ['Male', 'Female', 'Male', None, 'Female'],\n",
    "    'Age': [25, 30, None, 28, 22],\n",
    "    'Blood Type': ['A', 'B', 'O', 'AB', None],\n",
    "    'Medication': ['Yes', 'No', 'No', None, 'Yes'],\n",
    "    'Medical Condition': ['Healthy', 'Healthy', 'Sick', 'Sick', 'Healthy']\n",
    "})\n",
    "\n",
    "# Replace missing numerical values in the 'Age' column with the mean\n",
    "mean_age = df['Age'].mean()\n",
    "df['Age'] = df['Age'].fillna(mean_age)\n",
    "\n",
    "# Print the DataFrame with missing values replaced\n",
    "print(df)"
   ]
  },
  {
   "cell_type": "code",
   "execution_count": 8,
   "id": "fc0aba30",
   "metadata": {},
   "outputs": [
    {
     "name": "stdout",
     "output_type": "stream",
     "text": [
      "   Gender  Blood Type  Medication  Medical Condition\n",
      "0       1           0           1                  0\n",
      "1       0           2           0                  1\n",
      "2       1           3           0                  1\n",
      "3       0           1           1                  0\n",
      "4       1           0           1                  0\n"
     ]
    }
   ],
   "source": [
    "from sklearn.preprocessing import LabelEncoder\n",
    "\n",
    "# Assuming 'df' is your DataFrame\n",
    "df = pd.DataFrame({\n",
    "    'Gender': ['Male', 'Female', 'Male', 'Female', 'Male'],\n",
    "    'Blood Type': ['A', 'B', 'O', 'AB', 'A'],\n",
    "    'Medication': ['Yes', 'No', 'No', 'Yes', 'Yes'],\n",
    "    'Medical Condition': ['Healthy', 'Sick', 'Sick', 'Healthy', 'Healthy']\n",
    "})\n",
    "\n",
    "# Initialize LabelEncoder\n",
    "label_encoder = LabelEncoder()\n",
    "\n",
    "# Apply LabelEncoder to each categorical column\n",
    "df['Gender'] = label_encoder.fit_transform(df['Gender'])\n",
    "df['Blood Type'] = label_encoder.fit_transform(df['Blood Type'])\n",
    "df['Medication'] = label_encoder.fit_transform(df['Medication'])\n",
    "df['Medical Condition'] = label_encoder.fit_transform(df['Medical Condition'])\n",
    "\n",
    "# Print the DataFrame with categorical variables encoded\n",
    "print(df)"
   ]
  },
  {
   "cell_type": "code",
   "execution_count": 9,
   "id": "16bbf79e",
   "metadata": {},
   "outputs": [
    {
     "name": "stdout",
     "output_type": "stream",
     "text": [
      "   Gender_Female  Gender_Male  Blood Type_A  Blood Type_AB  Blood Type_B  \\\n",
      "0          False         True          True          False         False   \n",
      "1           True        False         False          False          True   \n",
      "2          False         True         False          False         False   \n",
      "3           True        False         False           True         False   \n",
      "4          False         True          True          False         False   \n",
      "\n",
      "   Blood Type_O  Medication_No  Medication_Yes  Medical Condition_Healthy  \\\n",
      "0         False          False            True                       True   \n",
      "1         False           True           False                      False   \n",
      "2          True           True           False                      False   \n",
      "3         False          False            True                       True   \n",
      "4         False          False            True                       True   \n",
      "\n",
      "   Medical Condition_Sick  \n",
      "0                   False  \n",
      "1                    True  \n",
      "2                    True  \n",
      "3                   False  \n",
      "4                   False  \n"
     ]
    }
   ],
   "source": [
    "# Assuming 'df' is your DataFrame\n",
    "df = pd.DataFrame({\n",
    "    'Gender': ['Male', 'Female', 'Male', 'Female', 'Male'],\n",
    "    'Blood Type': ['A', 'B', 'O', 'AB', 'A'],\n",
    "    'Medication': ['Yes', 'No', 'No', 'Yes', 'Yes'],\n",
    "    'Medical Condition': ['Healthy', 'Sick', 'Sick', 'Healthy', 'Healthy']\n",
    "})\n",
    "\n",
    "# Use pandas get_dummies for one-hot encoding\n",
    "df_encoded = pd.get_dummies(df, columns=['Gender', 'Blood Type', 'Medication', 'Medical Condition'])\n",
    "\n",
    "# Print the DataFrame with one-hot encoding\n",
    "print(df_encoded)"
   ]
  },
  {
   "cell_type": "code",
   "execution_count": 11,
   "id": "4c5e87ad",
   "metadata": {},
   "outputs": [
    {
     "data": {
      "image/png": "[encoded data removed]",
      "text/plain": [
       "<Figure size 640x480 with 1 Axes>"
      ]
     },
     "metadata": {},
     "output_type": "display_data"
    }
   ],
   "source": [
    "# Countplot for gender\n",
    "sns.countplot(x='Gender', data=df)\n",
    "plt.title('Gender')\n",
    "plt.show()"
   ]
  },
  {
   "cell_type": "code",
   "execution_count": 13,
   "id": "b3cc0545",
   "metadata": {},
   "outputs": [
    {
     "data": {
      "image/png": "[encoded data removed]",
      "text/plain": [
       "<Figure size 640x480 with 1 Axes>"
      ]
     },
     "metadata": {},
     "output_type": "display_data"
    }
   ],
   "source": [
    "# Histogram for Blood Type\n",
    "sns.histplot(df['Blood Type'].dropna(), bins=30)\n",
    "plt.title('Blood Type distribution')\n",
    "plt.xlabel('Blood Type')\n",
    "plt.show()"
   ]
  },
  {
   "cell_type": "code",
   "execution_count": 50,
   "id": "b3f2bdf8",
   "metadata": {},
   "outputs": [
    {
     "name": "stdout",
     "output_type": "stream",
     "text": [
      "      Name       Age  Gender  Test Results Admission Type Blood Type\n",
      "0  Tiffany  1.168187  Female  Inconclusive       Elective         O-\n",
      "1    Ruben -1.274386  Female        Normal      Emergency         O+\n",
      "2     Chad  0.106199    Male        Normal      Emergency         B-\n"
     ]
    }
   ],
   "source": [
    "from sklearn.preprocessing import StandardScaler\n",
    "import pandas as pd\n",
    "\n",
    "# Assuming 'df' is your DataFrame with the features to be scaled\n",
    "df = pd.DataFrame({\n",
    "    'Name': ['Tiffany', 'Ruben', 'Chad'],\n",
    "    'Age': [81, 35, 61],\n",
    "    'Gender': ['Female', 'Female', 'Male'],\n",
    "    'Test Results': ['Inconclusive', 'Normal', 'Normal'],\n",
    "    'Admission Type': ['Elective', 'Emergency', 'Emergency'],\n",
    "    'Blood Type': ['O-', 'O+', 'B-']\n",
    "    \n",
    "})\n",
    "\n",
    "# Extract the features you want to scale\n",
    "features_to_scale = ['Age'] \n",
    "\n",
    "# Initialize StandardScaler\n",
    "scaler = StandardScaler()\n",
    "\n",
    "# Apply StandardScaler to the selected features\n",
    "df[features_to_scale] = scaler.fit_transform(df[features_to_scale])\n",
    "\n",
    "# Print the DataFrame with scaled features\n",
    "print(df)\n"
   ]
  },
  {
   "cell_type": "code",
   "execution_count": 18,
   "id": "79f50216",
   "metadata": {},
   "outputs": [
    {
     "data": {
      "image/png": "[encoded data removed]",
      "text/plain": [
       "<Figure size 640x480 with 1 Axes>"
      ]
     },
     "metadata": {},
     "output_type": "display_data"
    }
   ],
   "source": [
    "# Histogram for Age distribution\n",
    "sns.histplot(df['Age'].dropna(), bins=30)\n",
    "plt.title('Age distribution')\n",
    "plt.xlabel('Age')\n",
    "plt.show()"
   ]
  },
  {
   "cell_type": "code",
   "execution_count": 20,
   "id": "5eba0681",
   "metadata": {},
   "outputs": [
    {
     "name": "stdout",
     "output_type": "stream",
     "text": [
      "            Age        Income  Education\n",
      "count  5.000000  5.000000e+00   5.000000\n",
      "mean   0.000000 -2.220446e-17   0.000000\n",
      "std    1.118034  1.118034e+00   1.118034\n",
      "min   -1.355262 -1.578410e+00  -1.414214\n",
      "25%   -0.677631 -6.499337e-01  -0.707107\n",
      "50%    0.000000  2.785430e-01   0.000000\n",
      "75%    0.451754  7.427814e-01   0.707107\n",
      "max    1.581139  1.207020e+00   1.414214\n",
      "Age          0\n",
      "Income       0\n",
      "Education    0\n",
      "dtype: int64\n"
     ]
    }
   ],
   "source": [
    "# Check summary statistics of the numerical columns\n",
    "print(df.describe())\n",
    "\n",
    "# Check for missing values\n",
    "print(df.isnull().sum())"
   ]
  },
  {
   "cell_type": "code",
   "execution_count": 57,
   "id": "cb51df61",
   "metadata": {},
   "outputs": [
    {
     "name": "stdout",
     "output_type": "stream",
     "text": [
      "Accuracy=0.00\n"
     ]
    }
   ],
   "source": [
    "#import relevant libraries\n",
    "from sklearn.model_selection import train_test_split\n",
    "from sklearn.linear_model import LogisticRegression\n",
    "from sklearn import metrics\n",
    "\n",
    "#features extraction\n",
    "x = df[['Age']]\n",
    "y = df['Blood Type']\n",
    "\n",
    "x_train,x_test,y_train,y_test = train_test_split(x,y,test_size=0.25,random_state=0)  #splitting data with test size of 25%\n",
    "\n",
    "logreg = LogisticRegression()   #build our logistic model\n",
    "logreg.fit(x_train, y_train)  #fitting training data\n",
    "y_pred  = logreg.predict(x_test)    #testing model’s performance\n",
    "print(\"Accuracy={:.2f}\".format(logreg.score(x_test, y_test)))"
   ]
  },
  {
   "cell_type": "code",
   "execution_count": 63,
   "id": "7a1ff41f",
   "metadata": {},
   "outputs": [
    {
     "name": "stdout",
     "output_type": "stream",
     "text": [
      "Index(['Income', 'Education'], dtype='object')\n"
     ]
    }
   ],
   "source": [
    "print(X.columns)"
   ]
  },
  {
   "cell_type": "code",
   "execution_count": 67,
   "id": "ad6dc69e",
   "metadata": {},
   "outputs": [
    {
     "data": {
      "text/plain": [
       "<Axes: xlabel='Age', ylabel='Blood Type'>"
      ]
     },
     "execution_count": 67,
     "metadata": {},
     "output_type": "execute_result"
    },
    {
     "data": {
      "image/png": "[encoded data removed]",
      "text/plain": [
       "<Figure size 640x480 with 1 Axes>"
      ]
     },
     "metadata": {},
     "output_type": "display_data"
    }
   ],
   "source": [
    "import seaborn as sns\n",
    "import seaborn as sns\n",
    "import pandas as pd\n",
    "\n",
    "# Sample data\n",
    "data = pd.DataFrame({\n",
    "    'Age': [81, 35, 61],\n",
    "    'Blood Type': ['O-', 'O+', 'B-']\n",
    "})\n",
    "\n",
    "# Map blood types to numerical values\n",
    "blood_type_mapping = {'A-': 1, 'A+': 2, 'B+': 3, 'B-': 4, 'AB+': 5, 'AB-': 6, 'O-': 7, 'O+': 8}\n",
    "data['Blood Type'] = data['Blood Type'].replace(blood_type_mapping)\n",
    "\n",
    "# Use seaborn regplot\n",
    "sns.regplot(x='Age', y='Blood Type', data=data)"
   ]
  },
  {
   "cell_type": "code",
   "execution_count": 73,
   "id": "9c6a80ab",
   "metadata": {},
   "outputs": [],
   "source": [
    "#importing relevant libraries\n",
    "from sklearn.model_selection import train_test_split\n",
    "from sklearn import tree   \n",
    "from sklearn.tree import DecisionTreeClassifier\n",
    "from sklearn.metrics import accuracy_score"
   ]
  },
  {
   "cell_type": "code",
   "execution_count": 74,
   "id": "ef936e60",
   "metadata": {},
   "outputs": [
    {
     "name": "stdout",
     "output_type": "stream",
     "text": [
      "score:0.0\n"
     ]
    }
   ],
   "source": [
    "#features extraction\n",
    "#features extraction\n",
    "x = df[['Age']]\n",
    "y = df['Blood Type']\n",
    "\n",
    "#splitting data with test size of 25%#splitting data\n",
    "x_train, x_test, y_train, y_test = train_test_split(x,y, test_size=0.20,random_state=10)\n",
    "\n",
    "\n",
    "#splitting data\n",
    "x_train, x_test, y_train, y_test = train_test_split(x,y, test_size=0.20,random_state=10)\n",
    "\n",
    "#applying tree algorithm\n",
    "tree = tree.DecisionTreeClassifier()  \n",
    "tree.fit(x_train, y_train)   #fitting our model\n",
    "y_pred=tree.predict(x_test)   # evaluating our model\n",
    "print(\"score:{}\".format(accuracy_score(y_test, y_pred)))"
   ]
  },
  {
   "cell_type": "code",
   "execution_count": null,
   "id": "47bc44ff",
   "metadata": {},
   "outputs": [],
   "source": []
  }
 ],
 "metadata": {
  "kernelspec": {
   "display_name": "Python 3 (ipykernel)",
   "language": "python",
   "name": "python3"
  },
  "language_info": {
   "codemirror_mode": {
    "name": "ipython",
    "version": 3
   },
   "file_extension": ".py",
   "mimetype": "text/x-python",
   "name": "python",
   "nbconvert_exporter": "python",
   "pygments_lexer": "ipython3",
   "version": "3.11.5"
  }
 },
 "nbformat": 4,
 "nbformat_minor": 5
}
